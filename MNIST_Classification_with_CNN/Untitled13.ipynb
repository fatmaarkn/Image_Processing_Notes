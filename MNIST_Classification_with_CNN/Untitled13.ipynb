{
 "cells": [
  {
   "cell_type": "code",
   "execution_count": 1,
   "id": "4b6a8023-ba30-4f0c-9931-4d3f578ed760",
   "metadata": {},
   "outputs": [],
   "source": [
    "import tensorflow as tf\n",
    "from tensorflow  import keras\n",
    "import numpy as np\n",
    "import matplotlib.pyplot as plt\n",
    "from sklearn.model_selection import train_test_split"
   ]
  },
  {
   "cell_type": "code",
   "execution_count": 19,
   "id": "65eaa845-681b-4aae-a129-a7f6cf2d3dd3",
   "metadata": {},
   "outputs": [
    {
     "name": "stdout",
     "output_type": "stream",
     "text": [
      "MNIST Veri Seti Yükleniyor\n"
     ]
    }
   ],
   "source": [
    "print (\"MNIST Veri Seti Yükleniyor\")\n",
    "(x_train,y_train) , (x_test, y_test) = keras.datasets.mnist.load_data()"
   ]
  },
  {
   "cell_type": "code",
   "execution_count": 21,
   "id": "b7e49972-b087-4db9-8647-3af9aa2e02ca",
   "metadata": {},
   "outputs": [],
   "source": [
    "x_train =x_train.reshape(-1,28,28,1)\n",
    "x_test =x_test.reshape(-1,28,28,1)"
   ]
  },
  {
   "cell_type": "code",
   "execution_count": 23,
   "id": "4cdcf872-fde3-4a23-81a5-d5b1673c3251",
   "metadata": {},
   "outputs": [],
   "source": [
    "x_train =x_train.astype('float32')/255.0\n",
    "x_test =x_test.astype('float32')/255.0"
   ]
  },
  {
   "cell_type": "code",
   "execution_count": 25,
   "id": "3315811b-d7d2-4fc2-b454-485112157408",
   "metadata": {},
   "outputs": [
    {
     "name": "stdout",
     "output_type": "stream",
     "text": [
      "Eğitim Verilerinin boyutu ve sayısı =(60000, 28, 28, 1)\n",
      "Test Verilerinin boyutu ve sayısı =(10000, 28, 28, 1)\n"
     ]
    }
   ],
   "source": [
    "print(f\"Eğitim Verilerinin boyutu ve sayısı ={x_train.shape}\")\n",
    "print(f\"Test Verilerinin boyutu ve sayısı ={x_test.shape}\")"
   ]
  },
  {
   "cell_type": "code",
   "execution_count": 27,
   "id": "f7721ee6-cdef-4fcc-b2a4-0fda1d6cdd6b",
   "metadata": {},
   "outputs": [],
   "source": [
    "y_train = keras.utils.to_categorical(y_train, 10)\n",
    "y_test = keras.utils.to_categorical(y_test, 10)"
   ]
  },
  {
   "cell_type": "code",
   "execution_count": 35,
   "id": "2b3b9270-28e4-4766-a8ac-8209ddb1839a",
   "metadata": {},
   "outputs": [
    {
     "name": "stdout",
     "output_type": "stream",
     "text": [
      "Veri bölme sonrası boyutlar:\n",
      "Eğitim verisi boyutu:(48000, 28, 28, 1)\n",
      "Validation verisi boyutu:(12000, 28, 28, 1)\n"
     ]
    }
   ],
   "source": [
    "X_train, X_val, y_train_split,y_val =train_test_split(\n",
    "    x_train,\n",
    "    y_train,\n",
    "    test_size=0.2,\n",
    "    random_state=42,\n",
    "    stratify=y_train)\n",
    "\n",
    "print(f\"Veri bölme sonrası boyutlar:\")\n",
    "print(f\"Eğitim verisi boyutu:{X_train.shape}\")\n",
    "print(f\"Validation verisi boyutu:{X_val.shape}\")"
   ]
  },
  {
   "cell_type": "code",
   "execution_count": 65,
   "id": "ba2718ea-5891-46d4-af69-d7e347664170",
   "metadata": {},
   "outputs": [],
   "source": [
    "model = keras.Sequential([\n",
    "\n",
    "    keras.layers.Conv2D(32, (3,3), activation='relu', input_shape=(28,28,1)),\n",
    "    keras.layers.BatchNormalization(),\n",
    "    keras.layers.Conv2D(32, (3,3), activation='relu'),\n",
    "    keras.layers.BatchNormalization(),\n",
    "    keras.layers.MaxPooling2D((2,2)),\n",
    "    keras.layers.Dropout(0.25),\n",
    "\n",
    "\n",
    "    keras.layers.Conv2D(64, (3,3), activation='relu'),\n",
    "    keras.layers.BatchNormalization(),\n",
    "    keras.layers.Conv2D(64, (3,3), activation='relu'),\n",
    "    keras.layers.BatchNormalization(),\n",
    "    keras.layers.MaxPooling2D((2,2)),\n",
    "    keras.layers.Dropout(0.25),\n",
    "\n",
    "\n",
    "    keras.layers.Flatten(),\n",
    "    keras.layers.Dense(512, activation='relu'),\n",
    "    keras.layers.BatchNormalization(),\n",
    "    keras.layers.Dropout(0.5),\n",
    "    keras.layers.Dense(10, activation='softmax')\n",
    "\n",
    "])                                "
   ]
  },
  {
   "cell_type": "code",
   "execution_count": 67,
   "id": "a90a5c8b-e7c1-497f-9c00-1b609517048d",
   "metadata": {},
   "outputs": [],
   "source": [
    "model.compile(\n",
    "    optimizer='adam',\n",
    "    loss='categorical_crossentropy',\n",
    "    metrics=['accuracy']\n",
    ")"
   ]
  },
  {
   "cell_type": "code",
   "execution_count": 69,
   "id": "5b03badb-bbe3-46f3-b253-76664c340c9e",
   "metadata": {},
   "outputs": [],
   "source": [
    "model_checkpoint = keras.callbacks.ModelCheckpoint(\n",
    "    'two_blocks_cnn_for_mnist_dataset.h5',\n",
    "    monitor='val_accuracy',\n",
    "    save_best_only=True,\n",
    "    mode='max',verbose=1)"
   ]
  },
  {
   "cell_type": "code",
   "execution_count": 71,
   "id": "11c0a1b8-58cd-4550-af3c-6655b45cd029",
   "metadata": {},
   "outputs": [
    {
     "name": "stdout",
     "output_type": "stream",
     "text": [
      "Epoch 1/5\n",
      "375/375 [==============================] - ETA: 0s - loss: 0.1969 - accuracy: 0.9405\n",
      "Epoch 1: val_accuracy improved from -inf to 0.26375, saving model to two_blocks_cnn_for_mnist_dataset.h5\n",
      "375/375 [==============================] - 94s 245ms/step - loss: 0.1969 - accuracy: 0.9405 - val_loss: 3.6269 - val_accuracy: 0.2637\n",
      "Epoch 2/5\n",
      "375/375 [==============================] - ETA: 0s - loss: 0.0661 - accuracy: 0.9798\n",
      "Epoch 2: val_accuracy improved from 0.26375 to 0.98758, saving model to two_blocks_cnn_for_mnist_dataset.h5\n",
      "375/375 [==============================] - 96s 255ms/step - loss: 0.0661 - accuracy: 0.9798 - val_loss: 0.0376 - val_accuracy: 0.9876\n",
      "Epoch 3/5\n",
      "375/375 [==============================] - ETA: 0s - loss: 0.0481 - accuracy: 0.9853\n",
      "Epoch 3: val_accuracy improved from 0.98758 to 0.98942, saving model to two_blocks_cnn_for_mnist_dataset.h5\n",
      "375/375 [==============================] - 95s 254ms/step - loss: 0.0481 - accuracy: 0.9853 - val_loss: 0.0355 - val_accuracy: 0.9894\n",
      "Epoch 4/5\n",
      "375/375 [==============================] - ETA: 0s - loss: 0.0392 - accuracy: 0.9872\n",
      "Epoch 4: val_accuracy improved from 0.98942 to 0.99033, saving model to two_blocks_cnn_for_mnist_dataset.h5\n",
      "375/375 [==============================] - 91s 242ms/step - loss: 0.0392 - accuracy: 0.9872 - val_loss: 0.0308 - val_accuracy: 0.9903\n",
      "Epoch 5/5\n",
      "375/375 [==============================] - ETA: 0s - loss: 0.0363 - accuracy: 0.9883\n",
      "Epoch 5: val_accuracy improved from 0.99033 to 0.99158, saving model to two_blocks_cnn_for_mnist_dataset.h5\n",
      "375/375 [==============================] - 91s 242ms/step - loss: 0.0363 - accuracy: 0.9883 - val_loss: 0.0290 - val_accuracy: 0.9916\n"
     ]
    },
    {
     "data": {
      "text/plain": [
       "<keras.callbacks.History at 0x2055380ceb0>"
      ]
     },
     "execution_count": 71,
     "metadata": {},
     "output_type": "execute_result"
    }
   ],
   "source": [
    "model.fit(X_train,y_train_split,validation_data=(X_val,y_val),\n",
    "          batch_size=128, epochs=5, callbacks=model_checkpoint,\n",
    "          verbose=1)"
   ]
  },
  {
   "cell_type": "code",
   "execution_count": null,
   "id": "ade1cf61-bf4f-45bd-b17b-fc88e9a097a6",
   "metadata": {},
   "outputs": [],
   "source": []
  }
 ],
 "metadata": {
  "kernelspec": {
   "display_name": "env_ybs",
   "language": "python",
   "name": "env_ybs"
  },
  "language_info": {
   "codemirror_mode": {
    "name": "ipython",
    "version": 3
   },
   "file_extension": ".py",
   "mimetype": "text/x-python",
   "name": "python",
   "nbconvert_exporter": "python",
   "pygments_lexer": "ipython3",
   "version": "3.10.10"
  }
 },
 "nbformat": 4,
 "nbformat_minor": 5
}
