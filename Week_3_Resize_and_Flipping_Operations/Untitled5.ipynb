{
 "cells": [
  {
   "cell_type": "code",
   "execution_count": 3,
   "id": "83e3c83d-34eb-4877-83fc-ca8a1d46ee49",
   "metadata": {},
   "outputs": [],
   "source": [
    "import cv2\n",
    "import numpy as np"
   ]
  },
  {
   "cell_type": "code",
   "execution_count": 7,
   "id": "f0e6c702-679b-485a-8f90-20336dc84410",
   "metadata": {},
   "outputs": [
    {
     "name": "stdout",
     "output_type": "stream",
     "text": [
      "(683, 1024, 3)\n"
     ]
    }
   ],
   "source": [
    "my_img = cv2.imread(\"./aslan.jpg\",1)\n",
    "print(my_img.shape)"
   ]
  },
  {
   "cell_type": "code",
   "execution_count": 13,
   "id": "0df9871e-7d3d-48c9-881b-19437c371f1c",
   "metadata": {},
   "outputs": [],
   "source": [
    "cv2.imshow(\"RGB Image\",my_img)\n",
    "cv2.waitKey(0)\n",
    "cv2.destroyAllWindows()"
   ]
  },
  {
   "cell_type": "code",
   "execution_count": 15,
   "id": "91209656-5322-4da3-93ec-835bbf023c1f",
   "metadata": {},
   "outputs": [],
   "source": [
    "img_vertical = cv2.flip(my_img,0)\n",
    "img_horizontal = cv2.flip(my_img,1)\n",
    "img_both = cv2.flip(my_img,-1)"
   ]
  },
  {
   "cell_type": "code",
   "execution_count": 21,
   "id": "8c7079a5-90c5-448f-9597-1df375457f83",
   "metadata": {},
   "outputs": [],
   "source": [
    "cv2.imshow(\"Original Image\",my_img)\n",
    "cv2.imshow(\"Vertical Image\",img_vertical)\n",
    "cv2.imshow(\"Horizontal Image\",img_horizontal)\n",
    "cv2.imshow(\"Vertical and Horizontal Image\",img_both)\n",
    "cv2.waitKey(0)\n",
    "cv2.destroyAllWindows()"
   ]
  },
  {
   "cell_type": "code",
   "execution_count": 25,
   "id": "338f3f0f-44e1-41e0-9014-561102ed5511",
   "metadata": {},
   "outputs": [
    {
     "data": {
      "text/plain": [
       "numpy.ndarray"
      ]
     },
     "execution_count": 25,
     "metadata": {},
     "output_type": "execute_result"
    }
   ],
   "source": [
    "type(my_img)"
   ]
  },
  {
   "cell_type": "code",
   "execution_count": 27,
   "id": "5f9bdaaf-6b1a-43ac-ae47-568699aa2b7d",
   "metadata": {},
   "outputs": [],
   "source": [
    "vertical_with_code = my_img[::-1,:,:]\n",
    "cv2.imshow(\"Vertical Image With Code\",vertical_with_code)\n",
    "cv2.waitKey(0)\n",
    "cv2.destroyAllWindows()"
   ]
  },
  {
   "cell_type": "code",
   "execution_count": 39,
   "id": "1c6754ba-d08c-4a80-a79b-10e99c1f9ad3",
   "metadata": {},
   "outputs": [],
   "source": [
    "horizontal_with_code = my_img[:,::-1,:]\n",
    "cv2.imshow(\"Horizontal Image With Code\",horizontal_with_code)\n",
    "cv2.waitKey(0)\n",
    "cv2.destroyAllWindows()"
   ]
  },
  {
   "cell_type": "code",
   "execution_count": 41,
   "id": "ea44c4a8-ab61-48eb-9423-a6aa348cc9cf",
   "metadata": {},
   "outputs": [
    {
     "name": "stdout",
     "output_type": "stream",
     "text": [
      "(683, 1024, 3)\n",
      "Görüntünün Yüksekliği= 683\n",
      "Görüntünün Genişliği = 1024\n",
      "Görüntünün Kanal Sayısı= 3\n"
     ]
    }
   ],
   "source": [
    "print(my_img.shape)\n",
    "print(f\"Görüntünün Yüksekliği= {my_img.shape[0]}\")\n",
    "print(f\"Görüntünün Genişliği = {my_img.shape[1]}\")\n",
    "9print(f\"Görüntünün Kanal Sayısı= {my_img.shape[2]}\")"
   ]
  },
  {
   "cell_type": "code",
   "execution_count": 69,
   "id": "22b1418f-fa4a-4b91-9115-4690de2f344c",
   "metadata": {},
   "outputs": [],
   "source": [
    "resized_img = cv2.resize(my_img,(512,341),cv2.INTER_LANCZOS4)\n",
    "cv2.imshow(\"Original Image\",my_img)\n",
    "cv2.imshow(\"Resized Image\",resized_img)\n",
    "cv2.waitKey(0)\n",
    "cv2.destroyAllWindows()"
   ]
  },
  {
   "cell_type": "code",
   "execution_count": null,
   "id": "a519ed46-7d50-4c76-8207-138b2b7b526c",
   "metadata": {},
   "outputs": [],
   "source": []
  },
  {
   "cell_type": "code",
   "execution_count": null,
   "id": "9de574ee-51ad-45bc-8041-e71c3d1ccd8e",
   "metadata": {},
   "outputs": [],
   "source": []
  }
 ],
 "metadata": {
  "kernelspec": {
   "display_name": "env_ybs",
   "language": "python",
   "name": "env_ybs"
  },
  "language_info": {
   "codemirror_mode": {
    "name": "ipython",
    "version": 3
   },
   "file_extension": ".py",
   "mimetype": "text/x-python",
   "name": "python",
   "nbconvert_exporter": "python",
   "pygments_lexer": "ipython3",
   "version": "3.10.10"
  }
 },
 "nbformat": 4,
 "nbformat_minor": 5
}
